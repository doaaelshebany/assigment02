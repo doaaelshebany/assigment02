{
 "cells": [
  {
   "cell_type": "code",
   "execution_count": 34,
   "id": "22b77957-3b25-4d4b-b197-620a2c29c991",
   "metadata": {},
   "outputs": [
    {
     "name": "stdout",
     "output_type": "stream",
     "text": [
      "valvo\n"
     ]
    }
   ],
   "source": [
    "##Create a variable named carname and assign the value Volvo to it.\n",
    "carname= \"valvo\"\n",
    "print(carname)"
   ]
  },
  {
   "cell_type": "code",
   "execution_count": 35,
   "id": "05290e15-21e1-44dd-bf29-d48673ce2ab1",
   "metadata": {},
   "outputs": [
    {
     "name": "stdout",
     "output_type": "stream",
     "text": [
      "50\n"
     ]
    }
   ],
   "source": [
    "##Create a variable named x and assign the value 50 to it.\n",
    "x=50\n",
    "print(x)"
   ]
  },
  {
   "cell_type": "code",
   "execution_count": 36,
   "id": "83c8e4c1-9aac-444b-b94d-2667411b5b95",
   "metadata": {},
   "outputs": [
    {
     "name": "stdout",
     "output_type": "stream",
     "text": [
      "15\n"
     ]
    }
   ],
   "source": [
    "##Display the sum of 5 + 10, using two variables: x and y.\n",
    "x=5\n",
    "y=10\n",
    "print(x+y)"
   ]
  },
  {
   "cell_type": "code",
   "execution_count": 40,
   "id": "c29256c5-6446-40da-9649-0ca484894601",
   "metadata": {},
   "outputs": [
    {
     "name": "stdout",
     "output_type": "stream",
     "text": [
      "7\n"
     ]
    }
   ],
   "source": [
    "##Create a variable called z, assign x + y to it, and display the result.\n",
    "x=4\n",
    "y=3\n",
    "z=x+y\n",
    "print(z)"
   ]
  },
  {
   "cell_type": "code",
   "execution_count": 5,
   "id": "75e69a99-7e45-4079-a1b0-941565ef8f4b",
   "metadata": {},
   "outputs": [
    {
     "ename": "SyntaxError",
     "evalue": "invalid syntax (2853018835.py, line 1)",
     "output_type": "error",
     "traceback": [
      "\u001b[1;36m  File \u001b[1;32m\"C:\\Users\\HP\\AppData\\Local\\Temp\\ipykernel_2240\\2853018835.py\"\u001b[1;36m, line \u001b[1;32m1\u001b[0m\n\u001b[1;33m    2myvar = \"doaa\"\u001b[0m\n\u001b[1;37m     ^\u001b[0m\n\u001b[1;31mSyntaxError\u001b[0m\u001b[1;31m:\u001b[0m invalid syntax\n"
     ]
    }
   ],
   "source": [
    "##Remove the illegal characters in the variable name\n",
    "\n",
    "2myvar = \"doaa\"\n",
    "my-var = \"doaa\"\n",
    "my var = \"doaa\"\n"
   ]
  },
  {
   "cell_type": "code",
   "execution_count": 32,
   "id": "a42fdb04-53cf-4b86-997f-71e2f66aae4c",
   "metadata": {},
   "outputs": [
    {
     "name": "stdout",
     "output_type": "stream",
     "text": [
      "math\n",
      "math\n",
      "math\n"
     ]
    }
   ],
   "source": [
    "##Insert the correct syntax to assign the same value to all three variables in one code line.\n",
    "a = b = c = \"math\" \n",
    "print(a)\n",
    "print(b)\n",
    "print(c)"
   ]
  },
  {
   "cell_type": "code",
   "execution_count": null,
   "id": "fe943d9d-a19d-4405-8f42-8ee2478274b3",
   "metadata": {},
   "outputs": [],
   "source": [
    "##The following code example would print the data type of x, what data type would that be?\n"
   ]
  },
  {
   "cell_type": "code",
   "execution_count": 29,
   "id": "6a6d526b-63bf-40d2-9dca-e530dcd4ec27",
   "metadata": {},
   "outputs": [
    {
     "name": "stdout",
     "output_type": "stream",
     "text": [
      "<class 'int'>\n"
     ]
    }
   ],
   "source": [
    "x = 5\n",
    "\n",
    "print(type(x))\n",
    "type intger"
   ]
  },
  {
   "cell_type": "code",
   "execution_count": null,
   "id": "26606600-754e-4f2e-84f2-17e807fe8e27",
   "metadata": {},
   "outputs": [],
   "source": [
    "x = \"Hello World\"\n",
    "print(type(x))\n",
    "type string"
   ]
  },
  {
   "cell_type": "code",
   "execution_count": null,
   "id": "4c44d8f1-18f7-4ff8-903c-89aea3da6e77",
   "metadata": {},
   "outputs": [],
   "source": [
    "x = 20.5\n",
    "print(type(x))\n",
    "type float"
   ]
  },
  {
   "cell_type": "code",
   "execution_count": null,
   "id": "f41a0fa5-aadb-4545-84d3-f3f17505d092",
   "metadata": {},
   "outputs": [],
   "source": [
    "x = [\"apple\", \"banana\", \"cherry\"]\n",
    "print(type(x))\n",
    "type list"
   ]
  },
  {
   "cell_type": "code",
   "execution_count": null,
   "id": "04cecf59-f104-41c5-b900-e78657f1a029",
   "metadata": {},
   "outputs": [],
   "source": [
    "x = {\"name\" : \"John\", \"age\" : 36}\n",
    "print(type(x))\n",
    "type dictionary"
   ]
  },
  {
   "cell_type": "code",
   "execution_count": 41,
   "id": "8339bad8-a5c2-4855-b0f0-d8042e0d1a65",
   "metadata": {},
   "outputs": [
    {
     "name": "stdout",
     "output_type": "stream",
     "text": [
      "<class 'tuple'>\n"
     ]
    }
   ],
   "source": [
    "x = (\"apple\", \"banana\", \"cherry\")\n",
    "print(type(x))\n",
    "type tuple"
   ]
  },
  {
   "cell_type": "code",
   "execution_count": null,
   "id": "e8289bce-9a0f-426f-b518-2e18c0e6d524",
   "metadata": {},
   "outputs": [],
   "source": [
    "x = True\n",
    "print(type(x))\n",
    "type bool"
   ]
  },
  {
   "cell_type": "code",
   "execution_count": null,
   "id": "c236aa7f-858a-4f80-9e1e-bd72283d42e4",
   "metadata": {},
   "outputs": [],
   "source": [
    "##ed of type"
   ]
  },
  {
   "cell_type": "code",
   "execution_count": 42,
   "id": "e27229f0-1052-4d35-bd74-9cff6e37ae86",
   "metadata": {},
   "outputs": [],
   "source": [
    "##Insert the correct syntax to convert x into a floating point number.\n",
    "\n",
    "x = 5\n",
    "x = float(x)"
   ]
  },
  {
   "cell_type": "code",
   "execution_count": 43,
   "id": "91ebbe1c-9807-44dc-8dda-975a8913ed33",
   "metadata": {},
   "outputs": [
    {
     "data": {
      "text/plain": [
       "5.0"
      ]
     },
     "execution_count": 43,
     "metadata": {},
     "output_type": "execute_result"
    }
   ],
   "source": [
    "x"
   ]
  },
  {
   "cell_type": "code",
   "execution_count": 44,
   "id": "4d9f3752-6d95-4434-9ad9-d234ba067b1c",
   "metadata": {},
   "outputs": [],
   "source": [
    "##Insert the correct syntax to convert x into a int point number.\n",
    "\n",
    "x = 5.5\n",
    "x = int(x)"
   ]
  },
  {
   "cell_type": "code",
   "execution_count": 45,
   "id": "d219fd6d-986c-4568-81be-053d297c9a19",
   "metadata": {},
   "outputs": [
    {
     "data": {
      "text/plain": [
       "5"
      ]
     },
     "execution_count": 45,
     "metadata": {},
     "output_type": "execute_result"
    }
   ],
   "source": [
    "x"
   ]
  },
  {
   "cell_type": "code",
   "execution_count": 46,
   "id": "1899b9c3-1249-42af-a43a-539ca7cc16b9",
   "metadata": {},
   "outputs": [
    {
     "name": "stdout",
     "output_type": "stream",
     "text": [
      "11\n"
     ]
    }
   ],
   "source": [
    "##Use the len method to print the length of the string.\n",
    "\n",
    "x = \"Hello World\"\n",
    "print(len(x))"
   ]
  },
  {
   "cell_type": "code",
   "execution_count": 50,
   "id": "a9260cb9-6846-46e0-88af-a8b9c4b4f207",
   "metadata": {},
   "outputs": [
    {
     "name": "stdout",
     "output_type": "stream",
     "text": [
      "H\n"
     ]
    }
   ],
   "source": [
    "##Get the first character of the string txt.\n",
    "txt = \"Hello World\"\n",
    "print(txt[0])"
   ]
  },
  {
   "cell_type": "code",
   "execution_count": 52,
   "id": "9fd8099b-9773-4a9a-bbfb-da4d0d24bec1",
   "metadata": {},
   "outputs": [
    {
     "name": "stdout",
     "output_type": "stream",
     "text": [
      "llo\n"
     ]
    }
   ],
   "source": [
    "##Get the characters from index 2 to index 4 (llo\n",
    "txt = \"Hello World\"\n",
    "print(txt[2:5])"
   ]
  },
  {
   "cell_type": "code",
   "execution_count": 56,
   "id": "5d08d5f9-b93a-4221-8d35-e1a5f3ddb5be",
   "metadata": {},
   "outputs": [
    {
     "data": {
      "text/plain": [
       "'Hello World'"
      ]
     },
     "execution_count": 56,
     "metadata": {},
     "output_type": "execute_result"
    }
   ],
   "source": [
    "##Return the string without any whitespace at the beginning or the end\n",
    "txt = \"Hello World\"\n",
    "txt.strip()"
   ]
  },
  {
   "cell_type": "code",
   "execution_count": 57,
   "id": "3fdd7064-b87d-4c77-978c-e7b2d4fa4c7c",
   "metadata": {},
   "outputs": [
    {
     "data": {
      "text/plain": [
       "'HELLO WORLD'"
      ]
     },
     "execution_count": 57,
     "metadata": {},
     "output_type": "execute_result"
    }
   ],
   "source": [
    "##Convert the value of txt to upper case.\n",
    "txt = \"Hello World\"\n",
    "txt.upper()"
   ]
  },
  {
   "cell_type": "code",
   "execution_count": 60,
   "id": "dc94f22d-72e6-4046-bec3-13d0382af617",
   "metadata": {},
   "outputs": [
    {
     "data": {
      "text/plain": [
       "'hello world'"
      ]
     },
     "execution_count": 60,
     "metadata": {},
     "output_type": "execute_result"
    }
   ],
   "source": [
    "##Convert the value of txt to lower case.\n",
    "txt = \"Hello World\"\n",
    "txt.lower()"
   ]
  },
  {
   "cell_type": "code",
   "execution_count": 62,
   "id": "7549c953-1f55-4c28-8eb3-3de8e3badc4f",
   "metadata": {},
   "outputs": [
    {
     "name": "stdout",
     "output_type": "stream",
     "text": [
      "my name is john,and I am36\n"
     ]
    }
   ],
   "source": [
    "##Using format function to print the age\n",
    "\n",
    "age = 36\n",
    "txt = \"My name is John, and I am \"\n",
    "txt=\"my name is john,and I am{age}\".format(age=36)\n",
    "print(txt)"
   ]
  },
  {
   "cell_type": "code",
   "execution_count": null,
   "id": "0da70113-57e3-4d1d-9bde-2c15a7d8fb10",
   "metadata": {},
   "outputs": [],
   "source": [
    "##he statement below would print a Boolean value, which one?"
   ]
  },
  {
   "cell_type": "code",
   "execution_count": null,
   "id": "9a3cab51-1d1b-447b-9e4b-aee2f23a65b6",
   "metadata": {},
   "outputs": [],
   "source": [
    "print(10 > 9)"
   ]
  },
  {
   "cell_type": "code",
   "execution_count": null,
   "id": "2449e835-3a43-4b0e-ab25-07e8959a227f",
   "metadata": {},
   "outputs": [],
   "source": [
    "true"
   ]
  },
  {
   "cell_type": "code",
   "execution_count": null,
   "id": "659ade87-2e98-4cad-87b3-d8d8c4ee0742",
   "metadata": {},
   "outputs": [],
   "source": [
    "print(9==10)"
   ]
  },
  {
   "cell_type": "code",
   "execution_count": null,
   "id": "a919fc78-14c0-434d-9859-8f79e971eb68",
   "metadata": {},
   "outputs": [],
   "source": [
    "false"
   ]
  },
  {
   "cell_type": "code",
   "execution_count": null,
   "id": "8369c056-6bb2-4c19-8c3f-8d239b93a2bc",
   "metadata": {},
   "outputs": [],
   "source": [
    "print(10 < 9)"
   ]
  },
  {
   "cell_type": "code",
   "execution_count": null,
   "id": "b08fd95c-fe91-4b3a-b1f3-2f1f036afa16",
   "metadata": {},
   "outputs": [],
   "source": [
    "false"
   ]
  },
  {
   "cell_type": "code",
   "execution_count": 65,
   "id": "4fc35244-4723-4206-a18b-118d5d6221ce",
   "metadata": {},
   "outputs": [
    {
     "data": {
      "text/plain": [
       "50"
      ]
     },
     "execution_count": 65,
     "metadata": {},
     "output_type": "execute_result"
    }
   ],
   "source": [
    "##Multiply 10 with 5, and print the result.\n",
    "def add_func(x,y):\n",
    "    return x*y\n",
    "add_func(10,5)"
   ]
  },
  {
   "cell_type": "code",
   "execution_count": 67,
   "id": "ba2af2e1-e3e3-42de-b90e-cf4bd73c6c51",
   "metadata": {},
   "outputs": [
    {
     "data": {
      "text/plain": [
       "5.0"
      ]
     },
     "execution_count": 67,
     "metadata": {},
     "output_type": "execute_result"
    }
   ],
   "source": [
    "##divide 10 with 5, and print the result.\n",
    "def add_func(x,y):\n",
    "    return x/y\n",
    "add_func(10,2)"
   ]
  },
  {
   "cell_type": "code",
   "execution_count": 69,
   "id": "3578c8ab-0e9e-4887-a491-0db5982e9f43",
   "metadata": {},
   "outputs": [
    {
     "name": "stdout",
     "output_type": "stream",
     "text": [
      "mylist\n"
     ]
    }
   ],
   "source": [
    "##Create a list and check if the value in this list or not\n",
    "\n",
    "mylist=[\"math\",\"arabic\",\"science\"]\n",
    "if type(mylist) == list:\n",
    "    print(\"mylist\")\n",
    "else:\n",
    "    print(\"error\")\n",
    "\n"
   ]
  },
  {
   "cell_type": "code",
   "execution_count": 70,
   "id": "3ed0bfc8-34d1-4e1c-998f-3205de3f62d3",
   "metadata": {},
   "outputs": [
    {
     "name": "stdout",
     "output_type": "stream",
     "text": [
      "not equal\n"
     ]
    }
   ],
   "source": [
    "##Use the correct comparison operator to check if 5 is not equal to 10.\n",
    "if 5 != 10:\n",
    "    print(\"not equal\")"
   ]
  },
  {
   "cell_type": "code",
   "execution_count": 71,
   "id": "867674c6-b23b-4d72-b0e8-62a243b4ed72",
   "metadata": {},
   "outputs": [
    {
     "name": "stdout",
     "output_type": "stream",
     "text": [
      "at least one\n"
     ]
    }
   ],
   "source": [
    "##use if one of tow state is true\n",
    "if 4==4 or 3>4 :\n",
    "    print(\"at least one\")"
   ]
  },
  {
   "cell_type": "code",
   "execution_count": 72,
   "id": "39824e47-2ebc-470f-8c7f-2425b5376ba9",
   "metadata": {},
   "outputs": [
    {
     "name": "stdout",
     "output_type": "stream",
     "text": [
      "banana\n"
     ]
    }
   ],
   "source": [
    "##Print the second item in the fruits list.\n",
    "\n",
    "fruits = [\"apple\", \"banana\", \"cherry\"]\n",
    "print(fruits[1])"
   ]
  },
  {
   "cell_type": "code",
   "execution_count": 73,
   "id": "873a9212-43cc-43ad-a49f-f1ac3e0bd38c",
   "metadata": {},
   "outputs": [
    {
     "name": "stdout",
     "output_type": "stream",
     "text": [
      "['kiwi', 'banana', 'cherry']\n"
     ]
    }
   ],
   "source": [
    "##hange the value from \"apple\" to \"kiwi\", in the fruits list.\n",
    "fruits = [\"apple\", \"banana\", \"cherry\"]\n",
    "fruits[0]= \"kiwi\"\n",
    "print(fruits)"
   ]
  },
  {
   "cell_type": "code",
   "execution_count": 74,
   "id": "6b6e7b7c-f113-4221-958a-bd4a3476fa24",
   "metadata": {},
   "outputs": [
    {
     "name": "stdout",
     "output_type": "stream",
     "text": [
      "['apple', 'banana', 'cherry', 'orange']\n"
     ]
    }
   ],
   "source": [
    "##Use the append method to add \"orange\" to the fruits list.\n",
    "fruits = [\"apple\", \"banana\", \"cherry\"]\n",
    "fruits.append(\"orange\")\n",
    "print(fruits)"
   ]
  },
  {
   "cell_type": "code",
   "execution_count": 75,
   "id": "80e1dcc9-bd80-475b-91e9-12d32426147f",
   "metadata": {},
   "outputs": [
    {
     "name": "stdout",
     "output_type": "stream",
     "text": [
      "['apple', 'lemon', 'banana', 'cherry']\n"
     ]
    }
   ],
   "source": [
    "##Use the insert method to add \"lemon\" as the second item in the fruits list.\n",
    "\n",
    "fruits = [\"apple\", \"banana\", \"cherry\"]\n",
    "fruits.insert(1, \"lemon\")\n",
    "print(fruits)\n"
   ]
  },
  {
   "cell_type": "code",
   "execution_count": 76,
   "id": "cba3a054-74f6-48ad-a2a7-ea0b341e156a",
   "metadata": {},
   "outputs": [
    {
     "name": "stdout",
     "output_type": "stream",
     "text": [
      "['apple', 'cherry']\n"
     ]
    }
   ],
   "source": [
    "##se the remove method to remove \"banana\" from the fruits list.\n",
    "\n",
    "fruits = [\"apple\", \"banana\", \"cherry\"]\n",
    "fruits.remove(\"banana\")\n",
    "print(fruits)"
   ]
  },
  {
   "cell_type": "code",
   "execution_count": 77,
   "id": "4d338a5a-af34-4176-a477-f3d0819e8ff6",
   "metadata": {},
   "outputs": [
    {
     "name": "stdout",
     "output_type": "stream",
     "text": [
      "cherry\n"
     ]
    }
   ],
   "source": [
    "##Use negative indexing to print the last item in the list.\n",
    "fruits = [\"apple\", \"banana\", \"cherry\"]\n",
    "print(fruits[-1])"
   ]
  },
  {
   "cell_type": "code",
   "execution_count": 78,
   "id": "cbd4b919-f79e-4dad-ad2a-94d141f05ea6",
   "metadata": {},
   "outputs": [
    {
     "name": "stdout",
     "output_type": "stream",
     "text": [
      "['cherry', 'orange', 'kiwi']\n"
     ]
    }
   ],
   "source": [
    "##use a range of indexes to print the third, fourth, and fifth item in the list.\n",
    "fruits = [\"apple\", \"banana\", \"cherry\", \"orange\", \"kiwi\", \"melon\", \"mango\"]\n",
    "print(fruits[2:5])"
   ]
  },
  {
   "cell_type": "code",
   "execution_count": 79,
   "id": "e994828e-7d9c-4a8e-9013-1aaa054af85a",
   "metadata": {},
   "outputs": [
    {
     "data": {
      "text/plain": [
       "7"
      ]
     },
     "execution_count": 79,
     "metadata": {},
     "output_type": "execute_result"
    }
   ],
   "source": [
    "##Use the correct syntax to print the number of items in the list.\n",
    "fruits = [\"apple\", \"banana\", \"cherry\", \"orange\", \"kiwi\", \"melon\", \"mango\"]\n",
    "len(fruits)"
   ]
  },
  {
   "cell_type": "code",
   "execution_count": null,
   "id": "cdcd7229-c0bd-4ec8-93ca-540089e1b81c",
   "metadata": {},
   "outputs": [],
   "source": [
    "##Use the correct syntax to print the first item in the fruits tuple.\n",
    "fruits = (\"apple\", \"banana\", \"cherry\")\n",
    "print(fruits[0])"
   ]
  },
  {
   "cell_type": "code",
   "execution_count": 80,
   "id": "78f3dc0f-70be-4b30-af3d-9a87bc56737c",
   "metadata": {},
   "outputs": [
    {
     "data": {
      "text/plain": [
       "3"
      ]
     },
     "execution_count": 80,
     "metadata": {},
     "output_type": "execute_result"
    }
   ],
   "source": [
    "##Use the correct syntax to print the number of items in the fruits tuple.\n",
    "\n",
    "fruits = (\"apple\", \"banana\", \"cherry\")\n",
    "len(fruits)"
   ]
  },
  {
   "cell_type": "code",
   "execution_count": 81,
   "id": "24c704c3-6e5e-4b0a-b1e1-455297408a5d",
   "metadata": {},
   "outputs": [
    {
     "name": "stdout",
     "output_type": "stream",
     "text": [
      "{'banana', 'cherry', 'apple', 'orange'}\n"
     ]
    }
   ],
   "source": [
    "##Use the add method to add \"orange\" to the fruits set.\n",
    "\n",
    "fruits = {\"apple\", \"banana\", \"cherry\"}\n",
    "fruits.add(\"orange\")\n",
    "print(fruits)"
   ]
  },
  {
   "cell_type": "code",
   "execution_count": 82,
   "id": "fed921c1-5b30-4a02-8d83-fd1aac4fda3a",
   "metadata": {},
   "outputs": [
    {
     "name": "stdout",
     "output_type": "stream",
     "text": [
      "{'cherry', 'orange', 'apple', 'grapes', 'mango', 'banana'}\n"
     ]
    }
   ],
   "source": [
    "##Use the correct method to add multiple items (more_fruits) to the fruits set.\n",
    "fruits = {\"apple\", \"banana\", \"cherry\"}\n",
    "more_fruits = [\"orange\", \"mango\", \"grapes\"]\n",
    "for item in more_fruits:\n",
    "    fruits.add(item)\n",
    "print(fruits)\n"
   ]
  },
  {
   "cell_type": "code",
   "execution_count": 83,
   "id": "cc94ffe3-091c-47a5-8e8f-cdde0d00ca16",
   "metadata": {},
   "outputs": [
    {
     "name": "stdout",
     "output_type": "stream",
     "text": [
      "{'cherry', 'apple'}\n"
     ]
    }
   ],
   "source": [
    "##use the remove method to remove \"banana\" from the fruits set.\n",
    "fruits = {\"apple\", \"banana\", \"cherry\"}\n",
    "fruits.remove(\"banana\")\n",
    "print(fruits)"
   ]
  },
  {
   "cell_type": "code",
   "execution_count": null,
   "id": "7db22154-9bea-440b-b563-889f10bb8bc6",
   "metadata": {},
   "outputs": [],
   "source": [
    "##dicionary example"
   ]
  },
  {
   "cell_type": "code",
   "execution_count": null,
   "id": "961882ab-c83e-4de5-804b-b59139dd5ce0",
   "metadata": {},
   "outputs": [],
   "source": [
    "car ={\n",
    "  \"brand\": \"Ford\",\n",
    "  \"model\": \"Mustang\",\n",
    "  \"year\": 1964\n",
    "}\n",
    "print(car.get(\"model\"))"
   ]
  },
  {
   "cell_type": "code",
   "execution_count": null,
   "id": "4e09377f-2e5f-4082-ac03-00af6da232a3",
   "metadata": {},
   "outputs": [],
   "source": [
    "car ={\n",
    "  \"brand\": \"Ford\",\n",
    "  \"model\": \"Mustang\",\n",
    "  \"year\": 1964\n",
    "}\n",
    "\n",
    "car[\"year\"] = 2020\n",
    "print(car)"
   ]
  },
  {
   "cell_type": "code",
   "execution_count": null,
   "id": "cd1e699d-cb98-4777-b2eb-ba39e19b8d87",
   "metadata": {},
   "outputs": [],
   "source": [
    "car = {\n",
    "  \"brand\": \"Ford\",\n",
    "  \"model\": \"Mustang\",\n",
    "  \"year\": 1964\n",
    "}\n",
    "car[\"color\"] = \"red\"\n",
    "print(car)"
   ]
  },
  {
   "cell_type": "code",
   "execution_count": null,
   "id": "b0ffb2a0-ea74-44e9-b74a-38579bb332f5",
   "metadata": {},
   "outputs": [],
   "source": [
    "car = {\n",
    "  \"brand\": \"Ford\",\n",
    "  \"model\": \"Mustang\",\n",
    "  \"year\": 1964\n",
    "}\n",
    "car.pop(\"model\")\n",
    "print(car)"
   ]
  },
  {
   "cell_type": "code",
   "execution_count": null,
   "id": "758d7fd5-681f-4333-9f30-5785dbef0915",
   "metadata": {},
   "outputs": [],
   "source": [
    "car = {\n",
    "  \"brand\": \"Ford\",\n",
    "  \"model\": \"Mustang\",\n",
    "  \"year\": 1964\n",
    "}\n",
    "car.clear()\n",
    "print(car)"
   ]
  },
  {
   "cell_type": "code",
   "execution_count": null,
   "id": "5b4bd407-ea0f-4b07-8b9e-a4650fc9712b",
   "metadata": {},
   "outputs": [],
   "source": [
    "##end of dic example"
   ]
  },
  {
   "cell_type": "code",
   "execution_count": null,
   "id": "0fc7a16f-ca34-4c81-aca7-c13201b6f100",
   "metadata": {},
   "outputs": [],
   "source": [
    "a=1\n",
    "b=2\n",
    "if a==b:\n",
    "    print(1)\n",
    "elif a>b:\n",
    "    print(2)\n",
    "else:\n",
    "    print(3)"
   ]
  },
  {
   "cell_type": "code",
   "execution_count": null,
   "id": "97e700dc-35e3-4e2e-b0f3-f7114d5ec3cd",
   "metadata": {},
   "outputs": [],
   "source": [
    "##This example misses indentations to be correct.Insert the missing indentation to make the code corr\n",
    "if 5 > 2:\n",
    "    print(\"Five is greater than two!\")"
   ]
  },
  {
   "cell_type": "code",
   "execution_count": 90,
   "id": "af479433-325a-43eb-870c-e41910c5ee97",
   "metadata": {},
   "outputs": [
    {
     "ename": "IndentationError",
     "evalue": "unexpected indent (1275673027.py, line 2)",
     "output_type": "error",
     "traceback": [
      "\u001b[1;36m  File \u001b[1;32m\"C:\\Users\\HP\\AppData\\Local\\Temp\\ipykernel_2240\\1275673027.py\"\u001b[1;36m, line \u001b[1;32m2\u001b[0m\n\u001b[1;33m    print(\"Yes\" if 5 > 2  else  \"No\")\u001b[0m\n\u001b[1;37m    ^\u001b[0m\n\u001b[1;31mIndentationError\u001b[0m\u001b[1;31m:\u001b[0m unexpected indent\n"
     ]
    }
   ],
   "source": [
    " \n",
    "##use the correct short hand syntax to write the following conditional expression in one line:\n",
    "    print(\"Yes\" if 5 > 2  else  \"No\")\n",
    " "
   ]
  },
  {
   "cell_type": "code",
   "execution_count": 91,
   "id": "0ceaba95-f24f-4590-857f-c2b1161f17f2",
   "metadata": {},
   "outputs": [
    {
     "name": "stdout",
     "output_type": "stream",
     "text": [
      "0\n",
      "1\n",
      "2\n",
      "3\n",
      "4\n",
      "5\n"
     ]
    }
   ],
   "source": [
    "##Print i as long as i is less than 6.\n",
    "i = 0\n",
    "while i < 6:\n",
    "    print(i)\n",
    "    i +=1\n"
   ]
  },
  {
   "cell_type": "code",
   "execution_count": 92,
   "id": "a5626459-a5e7-4414-913c-4613d24c3721",
   "metadata": {},
   "outputs": [
    {
     "name": "stdout",
     "output_type": "stream",
     "text": [
      "0\n",
      "1\n",
      "2\n",
      "3\n"
     ]
    }
   ],
   "source": [
    "##Stop the loop if i is 3.\n",
    "i = 0\n",
    "while i < 6:\n",
    "  print(i)\n",
    "  if i == 3:\n",
    "    break\n",
    "  i += 1"
   ]
  },
  {
   "cell_type": "code",
   "execution_count": 93,
   "id": "92fb6cfd-efec-4e3b-8ccd-8e9e9ef16b88",
   "metadata": {},
   "outputs": [
    {
     "name": "stdout",
     "output_type": "stream",
     "text": [
      "1\n",
      "2\n",
      "4\n",
      "5\n",
      "6\n"
     ]
    }
   ],
   "source": [
    "##In the loop, when i is 3, jump directly to the next iteration.\n",
    "i = 0\n",
    "while i < 6:\n",
    "  i += 1\n",
    "  if i == 3:\n",
    "    continue\n",
    "  print(i)"
   ]
  },
  {
   "cell_type": "code",
   "execution_count": 97,
   "id": "d93f0ee9-66fb-4d27-a554-cec792285f90",
   "metadata": {},
   "outputs": [
    {
     "name": "stdout",
     "output_type": "stream",
     "text": [
      "0\n",
      "1\n",
      "2\n",
      "3\n",
      "4\n",
      "5\n",
      "false\n"
     ]
    }
   ],
   "source": [
    "##Print a message once the condition is false.\n",
    "\n",
    "i = 0\n",
    "while i < 6:\n",
    "  print(i)\n",
    "  i += 1\n",
    "else:\n",
    "  print(\"false\")"
   ]
  },
  {
   "cell_type": "code",
   "execution_count": 95,
   "id": "3fdb9280-a8e1-46cb-94ac-a64a66cfbc43",
   "metadata": {},
   "outputs": [
    {
     "name": "stdout",
     "output_type": "stream",
     "text": [
      "apple\n",
      "cherry\n"
     ]
    }
   ],
   "source": [
    "##n the loop, when the item value is \"banana\", jump directly to the next item.\n",
    "fruits = [\"apple\", \"banana\", \"cherry\"]\n",
    "for x in fruits:\n",
    "  if x == \"banana\":\n",
    "    continue\n",
    "  print(x)"
   ]
  },
  {
   "cell_type": "code",
   "execution_count": 96,
   "id": "c78a5527-3ac8-49b7-944b-74380961f527",
   "metadata": {},
   "outputs": [
    {
     "name": "stdout",
     "output_type": "stream",
     "text": [
      "0\n",
      "1\n",
      "2\n",
      "3\n",
      "4\n",
      "5\n"
     ]
    }
   ],
   "source": [
    "##Use the range function to loop through a code set 6 times\n",
    "for x in range(6):\n",
    "  print(x)"
   ]
  },
  {
   "cell_type": "code",
   "execution_count": 98,
   "id": "f5049b26-67ad-4f7d-8907-3ac758969970",
   "metadata": {},
   "outputs": [
    {
     "name": "stdout",
     "output_type": "stream",
     "text": [
      "apple\n",
      "banana\n"
     ]
    }
   ],
   "source": [
    "##Exit the loop when x is \"banana\".\n",
    "fruits = [\"apple\", \"banana\", \"cherry\"]\n",
    "for x in fruits:\n",
    "  print(x)\n",
    "  if x == \"banana\":\n",
    "    break"
   ]
  },
  {
   "cell_type": "code",
   "execution_count": 100,
   "id": "6feca984-bffc-4f59-9264-a30890b87bf4",
   "metadata": {},
   "outputs": [
    {
     "name": "stdout",
     "output_type": "stream",
     "text": [
      "my name is doaa\n"
     ]
    }
   ],
   "source": [
    "##Create a function named my_function.\n",
    "def my_func():\n",
    "    print(\"my name is doaa\")\n",
    "my_func()    \n",
    "    "
   ]
  },
  {
   "cell_type": "code",
   "execution_count": 102,
   "id": "336fe500-537c-4e4f-bbf8-b2d88d53f331",
   "metadata": {},
   "outputs": [
    {
     "name": "stdout",
     "output_type": "stream",
     "text": [
      "my name is doaa\n"
     ]
    }
   ],
   "source": [
    "###execute my fun\n",
    "my_func()"
   ]
  },
  {
   "cell_type": "code",
   "execution_count": 106,
   "id": "c6e35645-56df-47d5-8f31-728bc3c3e296",
   "metadata": {},
   "outputs": [
    {
     "data": {
      "text/plain": [
       "12"
      ]
     },
     "execution_count": 106,
     "metadata": {},
     "output_type": "execute_result"
    }
   ],
   "source": [
    "##inside func with 2 paramater\n",
    "def my_func(x,y):\n",
    "      return x+y\n",
    "my_func(4,8)"
   ]
  },
  {
   "cell_type": "code",
   "execution_count": 111,
   "id": "435efa1c-e650-48a9-88ca-18622b26067e",
   "metadata": {},
   "outputs": [
    {
     "data": {
      "text/plain": [
       "8"
      ]
     },
     "execution_count": 111,
     "metadata": {},
     "output_type": "execute_result"
    }
   ],
   "source": [
    "##Let the function return the x parameter + 5.\n",
    "def my_func(x):\n",
    "    return 5+x\n",
    "my_func(3)"
   ]
  },
  {
   "cell_type": "code",
   "execution_count": 112,
   "id": "bbe32d74-2f8c-4578-9faf-a0013615c118",
   "metadata": {},
   "outputs": [
    {
     "name": "stdout",
     "output_type": "stream",
     "text": [
      "my name is yara\n"
     ]
    }
   ],
   "source": [
    "##f you do not know the number of arguments that will be passed into your function, there is a prefix you can add in the function definition, which prefix?\n",
    "\n",
    "def my_func(*x):\n",
    "    print(\"my name is\" ,x[1])\n",
    "my_func(\"doaa\",\"yara\",\"areg\")"
   ]
  },
  {
   "cell_type": "code",
   "execution_count": 117,
   "id": "f5a6413b-d3f2-4c84-b144-cd78662f2c8e",
   "metadata": {},
   "outputs": [],
   "source": [
    "###f you do not know the number of keyword arguments that will be passed into your function, there is a prefix you can add in the function definition, which prefix?\n",
    "\n",
    "ANSWER BUT MAKE ERROR\n",
    "#def my_func(**x):\n",
    " #   print(\"my name is\" + fname)\n",
    "#my_func(fname=\"doaa\",sname=\"yara\",lname\"areg\")"
   ]
  },
  {
   "cell_type": "code",
   "execution_count": 118,
   "id": "324100a4-0101-4a1e-8f94-77e5c8765643",
   "metadata": {},
   "outputs": [
    {
     "name": "stdout",
     "output_type": "stream",
     "text": [
      "5\n"
     ]
    }
   ],
   "source": [
    "####Create a lambda function that takes one parameter (a) and returns it.\n",
    "x =lambda a:a\n",
    "print(x(5))"
   ]
  },
  {
   "cell_type": "code",
   "execution_count": null,
   "id": "8afc8599-3ee4-4ab1-9f94-0010613d1500",
   "metadata": {},
   "outputs": [],
   "source": []
  }
 ],
 "metadata": {
  "kernelspec": {
   "display_name": "Python 3 (ipykernel)",
   "language": "python",
   "name": "python3"
  },
  "language_info": {
   "codemirror_mode": {
    "name": "ipython",
    "version": 3
   },
   "file_extension": ".py",
   "mimetype": "text/x-python",
   "name": "python",
   "nbconvert_exporter": "python",
   "pygments_lexer": "ipython3",
   "version": "3.9.13"
  }
 },
 "nbformat": 4,
 "nbformat_minor": 5
}
